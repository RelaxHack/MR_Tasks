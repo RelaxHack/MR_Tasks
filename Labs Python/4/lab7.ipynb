{
  "nbformat": 4,
  "nbformat_minor": 0,
  "metadata": {
    "kernelspec": {
      "display_name": "Python 3",
      "language": "python",
      "name": "python3"
    },
    "language_info": {
      "codemirror_mode": {
        "name": "ipython",
        "version": 3
      },
      "file_extension": ".py",
      "mimetype": "text/x-python",
      "name": "python",
      "nbconvert_exporter": "python",
      "pygments_lexer": "ipython3",
      "version": "3.7.0"
    },
    "colab": {
      "name": "lab7.ipynb",
      "provenance": [],
      "collapsed_sections": []
    }
  },
  "cells": [
    {
      "cell_type": "markdown",
      "metadata": {
        "id": "IwJkQXq4DACy"
      },
      "source": [
        "# Отчет по лабораторной работе №7. Задача Коши и решение систем ДУ.\n",
        "## Выполнил Руденко М.С., 432 группа, 9 вариант\n"
      ]
    },
    {
      "cell_type": "markdown",
      "metadata": {
        "id": "MK10t2uEDAC2"
      },
      "source": [
        "## Постановка задачи\n",
        "\n",
        "Рассмотрим численное решение уравнения \n",
        "\n",
        "$$\n",
        "y'''-2y''+y'-2y=cos(x)\\cdot e^{2x},\\quad y(0)=1, y'(0)=0, y''(0)= 0\\quad x\\in[0,2]\n",
        "$$\n",
        "\n",
        "запишем его в виде системы ДУ 1-го порядка:\n",
        "\n",
        "$$\n",
        "\\begin{cases}\n",
        "y'=q=f_1(x,y,q,z)\\\\\n",
        "y''=q'=z=f_2(x,y,q,z)\\\\\n",
        "z'=f_3(x,y,q,z)=cos(x)\\cdot e^{2x}+2z-q+2y\n",
        "\\end{cases}%,\\qquad i=2,3,\\ldots, n\n",
        "$$\n",
        "\n",
        "В программе используется векторный подход: массив переменных <code>Y=[y q z], y=Y[0], q=Y[1], z=Y[2]</code>, и система имеет вид\n",
        "\n",
        "$$\n",
        "\\begin{cases}\n",
        "Y[0]'=Y[1]\\\\\n",
        "Y[1]'=Y[2]\\\\\n",
        "Y[2]'=cos(x)\\cdot e^{2x}+2Y[2]-Y[1]+2Y[0]\n",
        "\\end{cases}\n",
        "$$\n",
        "\n",
        "Здесь сопоставляется вектор производных и вектор правых частей\n",
        "\n",
        "$$\n",
        "Y'=f(x,Y),\\; \\text{где}\\;f(x,Y)=\n",
        "\\begin{bmatrix}\n",
        "Y[1]\\\\\n",
        "Y[2]\\\\\n",
        "cos(x)\\cdot e^{2x}+2Y[2]-Y[1]+2Y[0]\n",
        "\\end{bmatrix}\n",
        "$$\n",
        "\n",
        "## Метод Мерсона\n",
        "\n",
        "Одной из проблем, связанных с реализацией методов Рунге-Кутты, является выбор шага для достижения заданной точности. Решается она либо применением правила Рунге, что значительно увеличивает объем вычислений, либо путем использования специальных формул для вычисления погрешности, содержащих только величины ${k_r}$, (метод Мерсона). Например, для явного пятикратного метода\n",
        "$$\n",
        "k_1=\\frac{1}{3}f(x_n,y_n) \\\\\n",
        "k_2=\\frac{1}{3}f(x_n+\\frac{h}{3},y_n+hk_1) \\\\\n",
        "k_3=\\frac{1}{3}f(x_n+\\frac{h}{3},y_n+\\frac{h}{2}k_1+\\frac{h}{2}k_2) \\\\\n",
        "k_4=\\frac{1}{3}f(x_n+\\frac{h}{2},y_n+\\frac{3}{8}hk_1+\\frac{9}{8}hk_3) \\\\\n",
        "k_5=\\frac{1}{3}f(x_n+h,y_n+\\frac{3}{2}hk_1-\\frac{9}{2}hk_3+6hk_4) \\\\\n",
        "$$\n",
        "Можно показать, что в векторном виде итерационный процесс решения методом Мерсона будет записываться в виде\n",
        "\n",
        "$$\n",
        "Y^{n+1}=Y^n+\\frac{h}{2}(k_1+4k_4+k_5)\n",
        "$$\n",
        "\n",
        "Где все функции (вектора, матрицы) берутся в точке $Y^n, x^n$."
      ]
    },
    {
      "cell_type": "markdown",
      "metadata": {
        "id": "jxpLf3WJDAC5"
      },
      "source": [
        "Импорт библиотек"
      ]
    },
    {
      "cell_type": "code",
      "metadata": {
        "id": "SgcXAkZdDAC6"
      },
      "source": [
        "from sympy import Symbol,diff,exp,cos,sin,Matrix,var,symbols\n",
        "import sympy as sym\n",
        "import numpy as np\n",
        "from matplotlib import pyplot as plt\n",
        "from scipy.integrate import solve_ivp\n",
        "from scipy import interpolate\n",
        "from numpy.linalg import norm\n",
        "import math as m"
      ],
      "execution_count": null,
      "outputs": []
    },
    {
      "cell_type": "markdown",
      "metadata": {
        "id": "Q6puvZUqDAC6"
      },
      "source": [
        "Зададим условия расчетов:"
      ]
    },
    {
      "cell_type": "code",
      "metadata": {
        "id": "2RUFOcHdDAC7"
      },
      "source": [
        "n=3 # количество переменных\n",
        "y00=np.array([1.,0.,0.]) # начальные условия y(0)=1,y'(0)=0\n",
        "Tn0,tmax0=0,2 # временной интервал\n",
        "h=0.1 # начальный шаг\n",
        "eps=0.01 # точность"
      ],
      "execution_count": null,
      "outputs": []
    },
    {
      "cell_type": "markdown",
      "metadata": {
        "id": "0C0GArdFDAC7"
      },
      "source": [
        "Наша система"
      ]
    },
    {
      "cell_type": "code",
      "metadata": {
        "id": "B-Ay1Rg8DAC8"
      },
      "source": [
        "def f1(x,y0):   # y'(x)\n",
        "    yo = y0[:]\n",
        "    return yo[1]\n",
        "\n",
        "def f2(x,y0):   # y\"(x)\n",
        "    yo = y0[:]\n",
        "    return yo[2]\n",
        "\n",
        "def f3(x,y0): # y''' выраженная\n",
        "    yo = y0[:]\n",
        "    return m.cos(x)*m.exp(2*x) + 2*yo[2] - yo[1] + 2*yo[0]"
      ],
      "execution_count": null,
      "outputs": []
    },
    {
      "cell_type": "markdown",
      "metadata": {
        "id": "r17KQqp9DAC9"
      },
      "source": [
        "Зададим массив времени(наш x) и массив координат решения:"
      ]
    },
    {
      "cell_type": "code",
      "metadata": {
        "id": "GDTS5nVBDAC-"
      },
      "source": [
        "Time=np.array([])\n",
        "Y = np.empty((0,n),np.float32)"
      ],
      "execution_count": null,
      "outputs": []
    },
    {
      "cell_type": "markdown",
      "metadata": {
        "id": "fIvUoMsGDAC-"
      },
      "source": [
        "Итерационный процесс:"
      ]
    },
    {
      "cell_type": "code",
      "metadata": {
        "colab": {
          "base_uri": "https://localhost:8080/"
        },
        "id": "WTfFWCKTDAC-",
        "outputId": "40784f0b-5bfe-4dd6-eff4-2cb7eeb675ac"
      },
      "source": [
        "N=0\n",
        "while True:\n",
        "    h=h/2\n",
        "    yn=np.array([1.,0.,0.])\n",
        "    Tn=Tn0\n",
        "    tmax=tmax0  \n",
        "\n",
        "    N+=1\n",
        "\n",
        "    OldTime=Time\n",
        "    OldY=Y\n",
        "\n",
        "    Time=np.array([])\n",
        "    Y = np.empty((0,n),np.float32)\n",
        "    k1,k2,k3 = np.zeros(5), np.zeros(5), np.zeros(5)\n",
        "    while Tn<=tmax:\n",
        "        y0=yn\n",
        "        Time=np.append(Time,Tn)\n",
        "        Tn=Tn+h\n",
        "        x = Tn\n",
        "        Y=np.append(Y,[y0],axis=0)\n",
        "\n",
        "        k1[0] = (1/3)*f1(x,y0)\n",
        "        k2[0] = (1/3)*f2(x,y0)\n",
        "        k3[0] = (1/3)*f3(x,y0)\n",
        "        k1[1] = (1/3)*f1(x+(h/3),[y0[0]+h*k1[0],y0[1]+h*k2[0],y0[2]+h*k3[0]])\n",
        "        k2[1] = (1/3)*f2(x+(h/3),[y0[0]+h*k1[0],y0[1]+h*k2[0],y0[2]+h*k3[0]])\n",
        "        k3[1] = (1/3)*f3(x+(h/3),[y0[0]+h*k1[0],y0[1]+h*k2[0],y0[2]+h*k3[0]])\n",
        "        k1[2] = (1/3)*f1(x+(h/3),[y0[0]+(h/2)*k1[0]+(h/2)*k1[1],\n",
        "                                  y0[1]+(h/2)*k2[0]+(h/2)*k2[1],\n",
        "                                  y0[2]+(h/2)*k3[0]+(h/2)*k3[1]])\n",
        "        k2[2] = (1/3)*f2(x+(h/3),[y0[0]+(h/2)*k1[0]+(h/2)*k1[1],\n",
        "                                  y0[1]+(h/2)*k2[0]+(h/2)*k2[1],\n",
        "                                  y0[2]+(h/2)*k3[0]+(h/2)*k3[1]])\n",
        "        k3[2] = (1/3)*f3(x+(h/3),[y0[0]+(h/2)*k1[0]+(h/2)*k1[1],\n",
        "                                  y0[1]+(h/2)*k2[0]+(h/2)*k2[1],\n",
        "                                  y0[2]+(h/2)*k3[0]+(h/2)*k3[1]])\n",
        "        k1[3] = (1/3)*f1(x+(h/2),[y0[0]+(3/8)*h*k1[0]+(9/8)*h*k1[2],\n",
        "                                  y0[1]+(3/8)*h*k2[0]+(9/8)*h*k2[2],\n",
        "                                  y0[2]+(3/8)*h*k3[0]+(9/8)*h*k3[2]])\n",
        "        k2[3] = (1/3)*f2(x+(h/2),[y0[0]+(3/8)*h*k1[0]+(9/8)*h*k1[2],\n",
        "                                  y0[1]+(3/8)*h*k2[0]+(9/8)*h*k2[2],\n",
        "                                  y0[2]+(3/8)*h*k3[0]+(9/8)*h*k3[2]])\n",
        "        k3[3] = (1/3)*f3(x+(h/2),[y0[0]+(3/8)*h*k1[0]+(9/8)*h*k1[2],\n",
        "                                  y0[1]+(3/8)*h*k2[0]+(9/8)*h*k2[2],\n",
        "                                  y0[2]+(3/8)*h*k3[0]+(9/8)*h*k3[2]])\n",
        "        k1[4] = (1/3)*f1(x+h,[y0[0]+(3/2)*h*k1[0]-(9/2)*h*k1[2]+6*h*k1[3],\n",
        "                                  y0[1]+(3/2)*h*k2[0]-(9/2)*h*k2[2]+6*h*k2[3],\n",
        "                                  y0[2]+(3/2)*h*k3[0]-(9/2)*h*k3[2]+6*h*k3[3]])\n",
        "        k2[4] = (1/3)*f2(x+h,[y0[0]+(3/2)*h*k1[0]-(9/2)*h*k1[2]+6*h*k1[3],\n",
        "                                  y0[1]+(3/2)*h*k2[0]-(9/2)*h*k2[2]+6*h*k2[3],\n",
        "                                  y0[2]+(3/2)*h*k3[0]-(9/2)*h*k3[2]+6*h*k3[3]])\n",
        "        k3[4] = (1/3)*f3(x+h,[y0[0]+(3/2)*h*k1[0]-(9/2)*h*k1[2]+6*h*k1[3],\n",
        "                                  y0[1]+(3/2)*h*k2[0]-(9/2)*h*k2[2]+6*h*k2[3],\n",
        "                                  y0[2]+(3/2)*h*k3[0]-(9/2)*h*k3[2]+6*h*k3[3]])\n",
        "        yn[0] = y0[0] + (h/2)*(k1[0]+4*k1[3]+k1[4])\n",
        "        yn[1] = y0[1] + (h/2)*(k2[0]+4*k2[3]+k2[4])\n",
        "        yn[2] = y0[2] + (h/2)*(k3[0]+4*k3[3]+k3[4])\n",
        "    print('итерация',N,len(Y))\n",
        "    if N>=3:\n",
        "        YY=Y\n",
        "        YO=OldY\n",
        "        if len(YY)%2!=0:\n",
        "            YY=YY[:-1]\n",
        "        if len(YO)%2!=0:\n",
        "            YO=YO[:-1]\n",
        "        YY=np.array(YY,dtype=np.float32)\n",
        "        YO=np.array(YO,dtype=np.float32)\n",
        "        #delta = norm((YY[0::2]-YO))\n",
        "        delta=np.max(norm((YY[0::2]-YO),axis=0))\n",
        "        print('погрешность',delta)\n",
        "        if N>11:\n",
        "            break\n",
        "        if delta<eps:\n",
        "            break"
      ],
      "execution_count": null,
      "outputs": [
        {
          "output_type": "stream",
          "text": [
            "итерация 1 40\n",
            "итерация 2 81\n",
            "итерация 3 161\n",
            "погрешность 1.2318332\n",
            "итерация 4 320\n",
            "погрешность 0.89151675\n",
            "итерация 5 640\n",
            "погрешность 0.6376467\n",
            "итерация 6 1281\n",
            "погрешность 0.45344013\n",
            "итерация 7 2561\n",
            "погрешность 0.3215371\n",
            "итерация 8 5120\n",
            "погрешность 0.2276838\n",
            "итерация 9 10240\n",
            "погрешность 0.16110604\n",
            "итерация 10 20481\n",
            "погрешность 0.11396261\n",
            "итерация 11 40961\n",
            "погрешность 0.08059606\n",
            "итерация 12 81920\n",
            "погрешность 0.05699245\n"
          ],
          "name": "stdout"
        }
      ]
    },
    {
      "cell_type": "markdown",
      "metadata": {
        "id": "zzghMMuhDAC_"
      },
      "source": [
        "Так же решим встроенным решателем:"
      ]
    },
    {
      "cell_type": "code",
      "metadata": {
        "id": "VzrdPbu-DADA"
      },
      "source": [
        "def model(t,z):\n",
        "\ty1, y2, y3=z[0], z[1], z[2]\n",
        "\treturn [y2,y3,m.cos(t)*m.exp(2*t) + 2*y3 - y2 + 2*y1]\n",
        "\n",
        "solve = solve_ivp(model,[Tn0,tmax0],y00,method='RK45',min_step=0.001,max_step=0.001)\n",
        "\n",
        "Time2=solve.t\n",
        "Z=solve.y\n",
        "\n",
        "Z1,Z2,Z3=Z\n",
        "Y1,Y2,Y3=Y.T"
      ],
      "execution_count": null,
      "outputs": []
    },
    {
      "cell_type": "markdown",
      "metadata": {
        "id": "Y_n3Aix_DADA"
      },
      "source": [
        "График решения"
      ]
    },
    {
      "cell_type": "code",
      "metadata": {
        "colab": {
          "base_uri": "https://localhost:8080/",
          "height": 225
        },
        "id": "U0Zto7zdDADB",
        "outputId": "99d2ba9c-804e-4406-9db1-37d76f58527b"
      },
      "source": [
        "f, (ax1, ax2,ax3) = plt.subplots(1,3, gridspec_kw = {'width_ratios':[3, 3,3]})\n",
        "f.set_size_inches(11,3)\n",
        "\n",
        "ax1.set_title('Графики решений')\n",
        "ax1.plot(Time,Y1,'*', markersize=1)\n",
        "ax1.plot(Time2,Z1)\n",
        "ax1.set_ylabel(\"y\")\n",
        "ax1.set_xlabel(\"t\")\n",
        "\n",
        "ax2.plot(Time,Y2,'*', markersize=1)\n",
        "ax2.plot(Time2,Z2)\n",
        "ax2.set_ylabel(\"y'\")\n",
        "ax2.set_xlabel(\"t\")\n",
        "\n",
        "ax3.plot(Y1,Y2,'*', markersize=1)\n",
        "ax3.plot(Z1,Z2)\n",
        "ax3.set_xlabel(\"y\")\n",
        "ax3.set_ylabel(\"y'\")\n",
        "\n",
        "f.tight_layout()\n",
        "plt.show()"
      ],
      "execution_count": null,
      "outputs": [
        {
          "output_type": "display_data",
          "data": {
            "image/png": "[encoded data removed]",
            "text/plain": [
              "<Figure size 792x216 with 3 Axes>"
            ]
          },
          "metadata": {
            "tags": [],
            "needs_background": "light"
          }
        }
      ]
    },
    {
      "cell_type": "markdown",
      "metadata": {
        "id": "Ue9-7goPDADC"
      },
      "source": [
        "Чтобы не возиться с вычитанием массивов разной длины, можно решения разными способами  простейшим способом интерполировать на нужном отрезке (соединяя точки) и построить разность интерполирующих функций на одном и том же разбиении:"
      ]
    },
    {
      "cell_type": "code",
      "metadata": {
        "id": "VebBbBpIf7q6"
      },
      "source": [
        "def real_func(x): # точное решение y(x)\r\n",
        "  return (1/40)*(8*exp(2*x)+(5*exp(2*x)-11)*sin(x)+(37-5*exp(2*x))*cos(x))\r\n",
        "x = np.linspace(np.min(Time), np.max(Time),1000)\r\n",
        "y_real = [real_func(x[i]) for i in range(len(x))]\r\n",
        "f = interpolate.interp1d(x, y_real,axis=0, fill_value=\"extrapolate\")\r\n",
        "y_real1f = f(x)\r\n",
        "\r\n",
        "def real_funcY1(x): # точное решение y'(x)\r\n",
        "  return 2*exp(2*x)/5 + exp(2*x)*(sin(x)-cos(x))/4 + (cos(x)*(5*exp(2*x)-11)-sin(x)*(37-5*exp(2*x)))/40\r\n",
        "y_real = [real_funcY1(x[i]) for i in range(len(x))]\r\n",
        "f = interpolate.interp1d(x, y_real,axis=0, fill_value=\"extrapolate\")\r\n",
        "y_real1fY1 = f(x)"
      ],
      "execution_count": 41,
      "outputs": []
    },
    {
      "cell_type": "markdown",
      "metadata": {
        "id": "fdeOp5z7oqGN"
      },
      "source": [
        "Выше функция точного решения и ее интерполяция"
      ]
    },
    {
      "cell_type": "code",
      "metadata": {
        "id": "9PWHybpzDADC"
      },
      "source": [
        "x = np.linspace(np.min(Time), np.max(Time),1000)\n",
        "f = interpolate.interp1d(Time, Y1,axis=0, fill_value=\"extrapolate\")\n",
        "Y1f=f(x)\n",
        "f = interpolate.interp1d(Time2, Z1,axis=0, fill_value=\"extrapolate\")\n",
        "Z1f=f(x)\n",
        "\n",
        "x = np.linspace(np.min(Time), np.max(Time),1000)\n",
        "f = interpolate.interp1d(Time, Y2,axis=0, fill_value=\"extrapolate\")\n",
        "Y2f=f(x)\n",
        "f = interpolate.interp1d(Time2, Z2,axis=0, fill_value=\"extrapolate\")\n",
        "Z2f=f(x)"
      ],
      "execution_count": null,
      "outputs": []
    },
    {
      "cell_type": "markdown",
      "metadata": {
        "id": "JhISIdD5DADC"
      },
      "source": [
        "Разностные графики:"
      ]
    },
    {
      "cell_type": "code",
      "metadata": {
        "scrolled": false,
        "colab": {
          "base_uri": "https://localhost:8080/",
          "height": 433
        },
        "id": "gX7p-PD6DADD",
        "outputId": "e4fa3f82-e0d4-4c23-cc6d-a7f3b2ef3f1b"
      },
      "source": [
        "f, (plt1, plt2) = plt.subplots(1,2, gridspec_kw = {'width_ratios':[1,1]})\n",
        "f.set_size_inches(11,3)\n",
        "plt1.set_title('Разностные графики с встроенной функцией')\n",
        "plt1.plot(x,Y1f-Z1f)\n",
        "plt1.set_ylabel(\"y'\")\n",
        "plt1.set_xlabel(\"t\")\n",
        "\n",
        "plt2.plot(x,Y2f-Z2f)\n",
        "plt2.set_ylabel(\"y\")\n",
        "plt2.set_xlabel(\"t\")\n",
        "\n",
        "f.tight_layout()\n",
        "plt.show()\n",
        "\n",
        "f, (plt1, plt2) = plt.subplots(1,2, gridspec_kw = {'width_ratios':[1,1]})\n",
        "f.set_size_inches(11,3)\n",
        "plt1.set_title('Разностные графики с точным решением')\n",
        "plt1.plot(x,Y1f-y_real1f)\n",
        "plt1.set_ylabel(\"y\")\n",
        "plt1.set_xlabel(\"t\")\n",
        "\n",
        "plt2.plot(x,Y2f-y_real1fY1)\n",
        "plt2.set_ylabel(\"y'\")\n",
        "plt2.set_xlabel(\"t\")\n",
        "\n",
        "f.tight_layout()\n",
        "plt.show()"
      ],
      "execution_count": 43,
      "outputs": [
        {
          "output_type": "display_data",
          "data": {
            "image/png": "[encoded data removed]",
            "text/plain": [
              "<Figure size 792x216 with 2 Axes>"
            ]
          },
          "metadata": {
            "tags": [],
            "needs_background": "light"
          }
        },
        {
          "output_type": "display_data",
          "data": {
            "image/png": "[encoded data removed]",
            "text/plain": [
              "<Figure size 792x216 with 2 Axes>"
            ]
          },
          "metadata": {
            "tags": [],
            "needs_background": "light"
          }
        }
      ]
    },
    {
      "cell_type": "markdown",
      "metadata": {
        "id": "uzYhgjsSDADD"
      },
      "source": [
        "## Выводы\n",
        "\n",
        "Выбранной схемой решения (метод Мерсона) получено решение на отрезке (0,2) за 12 итераций по погрешности = 0.05 от начального шага 0.1 с погрешностью 0.01 (итерируется от сетки с ~40 узлов до ~81920 узлов). Заданную погрешность между собственными решениями можно дожидаться часами, но т.к. разностные графики хорошие можно оставить и в таком виде.\n",
        "\n",
        "Построены необходимые графики решения от времени, сопоставленные графикам полученным встроенной функцией и точного решения, а также их разностные графики от времени."
      ]
    }
  ]
}